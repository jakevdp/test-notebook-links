{
  "nbformat": 4,
  "nbformat_minor": 0,
  "metadata": {
    "colab": {
      "name": "Unrecognized Kernel",
      "version": "0.3.2",
      "provenance": []
    },
    "kernelspec": {
      "display_name": "Python 3.7 (conda)",
      "name": "conda-python"
    }
  },
  "cells": [
    {
      "metadata": {
        "id": "lIYdn1woOS1n",
        "colab_type": "text"
      },
      "cell_type": "markdown",
      "source": [
        "# hello"
      ]
    },
    {
      "metadata": {
        "id": "m9Unh5vtY80e",
        "colab_type": "code",
        "colab": {}
      },
      "cell_type": "code",
      "source": [
        ""
      ],
      "execution_count": 0,
      "outputs": []
    }
  ]
}
